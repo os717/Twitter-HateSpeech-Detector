{
 "cells": [
  {
   "cell_type": "code",
   "execution_count": 1,
   "metadata": {},
   "outputs": [
    {
     "name": "stderr",
     "output_type": "stream",
     "text": [
      "Using TensorFlow backend.\n"
     ]
    }
   ],
   "source": [
    "import numpy as np\n",
    "from keras.models import Sequential, load_model\n",
    "from keras.layers import Dense, Activation\n",
    "from keras.layers import LSTM, Dropout\n",
    "from keras.layers.embeddings import Embedding\n",
    "from keras.preprocessing import sequence\n",
    "import random\n",
    "from functions import *\n",
    "import pandas as pd\n",
    "import seaborn as sns\n",
    "from sklearn.metrics import confusion_matrix\n",
    "from sklearn.metrics import f1_score\n",
    "from copy import deepcopy as dp\n",
    "from keras.callbacks import EarlyStopping, ModelCheckpoint\n",
    "from keras.metrics import categorical_accuracy\n",
    "from keras import backend as K \n",
    "from keras.optimizers import Adam\n",
    "from keras.backend import tensorflow_backend as backend"
   ]
  },
  {
   "cell_type": "code",
   "execution_count": 2,
   "metadata": {},
   "outputs": [],
   "source": [
    "def gen_model(hidden, drop, vocab_size, embed):\n",
    "    model = Sequential()\n",
    "    model.add(Embedding(vocab_size, 20, input_length = embed, mask_zero = True))\n",
    "    model.add(LSTM(hidden))\n",
    "    model.add(Dropout(drop))\n",
    "    model.add(Dense(3))\n",
    "    model.add(Activation('softmax'))\n",
    "    \n",
    "    return model"
   ]
  },
  {
   "cell_type": "code",
   "execution_count": 42,
   "metadata": {},
   "outputs": [],
   "source": [
    "def create_model(params, vocab_size, embed_size, X, y,cw = None, epoch = 6):\n",
    "    \n",
    "    data = list(zip(X, y))\n",
    "    hate = [text for text in data if np.argmax(text[1]) == 0]\n",
    "    off = [text for text in data if np.argmax(text[1]) == 1]\n",
    "    nei = [text for text in data if np.argmax(text[1]) == 2]\n",
    "\n",
    "    if cw == True:\n",
    "        cw = {0:len(off)//len(hate), 1: 1, 2:len(off)//len(nei)}    \n",
    "\n",
    "    train_set = []\n",
    "    valid_set = []\n",
    "\n",
    "    for i in [hate, off, nei]:\n",
    "        random.shuffle(i)\n",
    "        train_set.extend(i[round(len(i)*0.2):])\n",
    "        valid_set.extend(i[:round(len(i)*0.2)])\n",
    "    random.shuffle(train_set)\n",
    "    X, y = zip(*train_set)\n",
    "    valid_X, valid_y = zip(*valid_set)\n",
    "    adam = Adam(lr=params['lr'])\n",
    "    model = gen_model(params['hidden'], params['drop'], vocab_size= vocab_size, embed=embed_size) \n",
    "    model.compile(loss='categorical_crossentropy', optimizer=adam, metrics=[categorical_accuracy])\n",
    "    history = model.fit(np.array(X), np.array(y), batch_size=params['batch'], \n",
    "                        validation_data = (np.array(valid_X), np.array(valid_y)), \n",
    "                        #validation_split = 0.2,\n",
    "                        epochs=epoch, shuffle=True,\n",
    "                        class_weight=cw,\n",
    "                        callbacks = [es, mcp_save]#, KerasPruningCallback(trial, 'val_acc')]\n",
    "                       )\n",
    "    model = load_model('best_lstm.hdf5')\n",
    "\n",
    "    return model"
   ]
  },
  {
   "cell_type": "code",
   "execution_count": 4,
   "metadata": {},
   "outputs": [],
   "source": [
    "def show_result(model):\n",
    "    pred = model.predict(np.array(test_X))\n",
    "    prediction = np.argmax(pred, axis = 1)\n",
    "    label = np.argmax(test_a, axis = 1)\n",
    "    cmx = print_cmx(label, prediction)"
   ]
  },
  {
   "cell_type": "code",
   "execution_count": 5,
   "metadata": {},
   "outputs": [],
   "source": [
    "m_input, w_i, i_d = load_pkl(r'C:/Users/OMAR/Documents/GitHub/zemi/cleaned_corpus/base_model_input.pkl')\n",
    "test_a, train_a = load_pkl(r'C:/Users/OMAR/Documents/GitHub/zemi/cleaned_corpus/answer_data.pkl')\n",
    "test_X, train_X = m_input\n",
    "train_X, train_a = shuffle_data(train_X, train_a)"
   ]
  },
  {
   "cell_type": "code",
   "execution_count": 6,
   "metadata": {},
   "outputs": [],
   "source": [
    "m_input2, w_i2, i_d2 = load_pkl(r'cleaned_corpus/augmented_model_input.pkl')\n",
    "_, train_a2 = load_pkl(r'cleaned_corpus/augmented_ans.pkl')\n",
    "_, train_X2 = m_input2\n",
    "train_X2, train_a2 = shuffle_data(train_X2, train_a2)"
   ]
  },
  {
   "cell_type": "code",
   "execution_count": 7,
   "metadata": {},
   "outputs": [],
   "source": [
    "es = EarlyStopping(monitor='val_loss', mode='min', verbose=1, patience=2, min_delta=0.005)\n",
    "mcp_save = ModelCheckpoint('best_lstm.hdf5', save_best_only=True, monitor='val_loss', mode='min')"
   ]
  },
  {
   "cell_type": "code",
   "execution_count": 52,
   "metadata": {},
   "outputs": [
    {
     "data": {
      "text/plain": [
       "{'lr': 0.0052365668686423705,\n",
       " 'hidden': 91,\n",
       " 'drop': 0.4732293175092074,\n",
       " 'batch': 18}"
      ]
     },
     "execution_count": 52,
     "metadata": {},
     "output_type": "execute_result"
    }
   ],
   "source": [
    "normal_best_params = load_pkl('tuning/tuned_parameters/lstm/lstm.pkl')\n",
    "nbp = normal_best_params\n",
    "normal_best_params"
   ]
  },
  {
   "cell_type": "code",
   "execution_count": 85,
   "metadata": {},
   "outputs": [],
   "source": [
    "nbp['lr'] = 0.001\n",
    "nbp['batch'] = 64\n",
    "save_pkl('tuning/tuned_parameters/lstm/lstm.pkl', nbp)"
   ]
  },
  {
   "cell_type": "code",
   "execution_count": 54,
   "metadata": {},
   "outputs": [
    {
     "name": "stdout",
     "output_type": "stream",
     "text": [
      "Train on 7488 samples, validate on 1872 samples\n",
      "Epoch 1/4\n",
      "7488/7488 [==============================] - 13s 2ms/step - loss: 0.8898 - categorical_accuracy: 0.5940 - val_loss: 0.6315 - val_categorical_accuracy: 0.7730\n",
      "Epoch 2/4\n",
      "7488/7488 [==============================] - 10s 1ms/step - loss: 0.5150 - categorical_accuracy: 0.8085 - val_loss: 0.5375 - val_categorical_accuracy: 0.7959\n",
      "Epoch 3/4\n",
      "7488/7488 [==============================] - 10s 1ms/step - loss: 0.3632 - categorical_accuracy: 0.8666 - val_loss: 0.4870 - val_categorical_accuracy: 0.8296\n",
      "Epoch 4/4\n",
      "7488/7488 [==============================] - 10s 1ms/step - loss: 0.2381 - categorical_accuracy: 0.9161 - val_loss: 0.5190 - val_categorical_accuracy: 0.8152\n"
     ]
    }
   ],
   "source": [
    "lstm = create_model(nbp, len(w_i), len(train_X[0]), train_X, train_a, epoch = 4)"
   ]
  },
  {
   "cell_type": "code",
   "execution_count": 55,
   "metadata": {
    "scrolled": true
   },
   "outputs": [
    {
     "data": {
      "image/png": "[encoded data removed]",
      "text/plain": [
       "<Figure size 720x504 with 2 Axes>"
      ]
     },
     "metadata": {
      "needs_background": "light"
     },
     "output_type": "display_data"
    },
    {
     "name": "stdout",
     "output_type": "stream",
     "text": [
      "[[ 61  53  26]\n",
      " [ 39 444  17]\n",
      " [ 11  20 369]]\n",
      "              precision    recall  f1-score   support\n",
      "\n",
      "           0       0.55      0.44      0.49       140\n",
      "           1       0.86      0.89      0.87       500\n",
      "           2       0.90      0.92      0.91       400\n",
      "\n",
      "   micro avg       0.84      0.84      0.84      1040\n",
      "   macro avg       0.77      0.75      0.76      1040\n",
      "weighted avg       0.83      0.84      0.83      1040\n",
      "\n"
     ]
    }
   ],
   "source": [
    "show_result(lstm)"
   ]
  },
  {
   "cell_type": "code",
   "execution_count": 34,
   "metadata": {},
   "outputs": [],
   "source": [
    "es = EarlyStopping(monitor='val_loss', mode='min', verbose=1, patience=2, min_delta=0.005)\n",
    "mcp_save = ModelCheckpoint('best_lstm.hdf5', save_best_only=True, monitor='val_loss', mode='min')"
   ]
  },
  {
   "cell_type": "code",
   "execution_count": 31,
   "metadata": {},
   "outputs": [
    {
     "data": {
      "text/plain": [
       "{'lr': 0.0016506045934272253,\n",
       " 'hidden': 41,\n",
       " 'drop': 0.3159095644935586,\n",
       " 'batch': 52}"
      ]
     },
     "execution_count": 31,
     "metadata": {},
     "output_type": "execute_result"
    }
   ],
   "source": [
    "class_weight_best_params = load_pkl('tuning/tuned_parameters/lstm/lstm_class_weight.pkl')\n",
    "cbp = class_weight_best_params\n",
    "class_weight_best_params"
   ]
  },
  {
   "cell_type": "code",
   "execution_count": 40,
   "metadata": {},
   "outputs": [
    {
     "name": "stdout",
     "output_type": "stream",
     "text": [
      "Train on 7488 samples, validate on 1872 samples\n",
      "Epoch 1/4\n",
      "7488/7488 [==============================] - 10s 1ms/step - loss: 1.1238 - categorical_accuracy: 0.6851 - val_loss: 0.8690 - val_categorical_accuracy: 0.8045\n",
      "Epoch 2/4\n",
      "7488/7488 [==============================] - 6s 867us/step - loss: 0.6375 - categorical_accuracy: 0.8446 - val_loss: 0.6592 - val_categorical_accuracy: 0.8328\n",
      "Epoch 3/4\n",
      "7488/7488 [==============================] - 7s 875us/step - loss: 0.3700 - categorical_accuracy: 0.9087 - val_loss: 0.7129 - val_categorical_accuracy: 0.8178\n",
      "Epoch 4/4\n",
      "7488/7488 [==============================] - 6s 866us/step - loss: 0.2474 - categorical_accuracy: 0.9367 - val_loss: 0.8070 - val_categorical_accuracy: 0.8168\n",
      "Epoch 00004: early stopping\n"
     ]
    }
   ],
   "source": [
    "lstm_cw = create_model(cbp, len(w_i), len(train_X[0]), train_X, train_a, epoch = 4, cw = True)"
   ]
  },
  {
   "cell_type": "code",
   "execution_count": 41,
   "metadata": {},
   "outputs": [
    {
     "data": {
      "image/png": "[encoded data removed]",
      "text/plain": [
       "<Figure size 720x504 with 2 Axes>"
      ]
     },
     "metadata": {
      "needs_background": "light"
     },
     "output_type": "display_data"
    },
    {
     "name": "stdout",
     "output_type": "stream",
     "text": [
      "[[ 90  39  11]\n",
      " [ 82 400  18]\n",
      " [ 26  14 360]]\n",
      "              precision    recall  f1-score   support\n",
      "\n",
      "           0       0.45      0.64      0.53       140\n",
      "           1       0.88      0.80      0.84       500\n",
      "           2       0.93      0.90      0.91       400\n",
      "\n",
      "   micro avg       0.82      0.82      0.82      1040\n",
      "   macro avg       0.75      0.78      0.76      1040\n",
      "weighted avg       0.84      0.82      0.83      1040\n",
      "\n"
     ]
    }
   ],
   "source": [
    "show_result(lstm_cw)"
   ]
  },
  {
   "cell_type": "code",
   "execution_count": 67,
   "metadata": {},
   "outputs": [],
   "source": [
    "es = EarlyStopping(monitor='val_loss', mode='min', verbose=1, patience=2, min_delta=0.005)\n",
    "mcp_save = ModelCheckpoint('best_lstm.hdf5', save_best_only=True, monitor='val_loss', mode='min')"
   ]
  },
  {
   "cell_type": "code",
   "execution_count": 68,
   "metadata": {},
   "outputs": [
    {
     "data": {
      "text/plain": [
       "{'batch': 30,\n",
       " 'lr': 0.013071298130398291,\n",
       " 'drop': 0.6349548213958957,\n",
       " 'hidden': 171}"
      ]
     },
     "execution_count": 68,
     "metadata": {},
     "output_type": "execute_result"
    }
   ],
   "source": [
    "augmented_best_params = load_pkl('tuning/tuned_parameters/lstm/lstm_augmented.pkl')\n",
    "abp = augmented_best_params\n",
    "augmented_best_params"
   ]
  },
  {
   "cell_type": "code",
   "execution_count": 77,
   "metadata": {},
   "outputs": [
    {
     "name": "stdout",
     "output_type": "stream",
     "text": [
      "Train on 10800 samples, validate on 2700 samples\n",
      "Epoch 1/2\n",
      "10800/10800 [==============================] - 56s 5ms/step - loss: 0.6507 - categorical_accuracy: 0.7381 - val_loss: 0.4050 - val_categorical_accuracy: 0.8515\n",
      "Epoch 2/2\n",
      "10800/10800 [==============================] - 50s 5ms/step - loss: 0.3267 - categorical_accuracy: 0.8876 - val_loss: 0.3578 - val_categorical_accuracy: 0.8785\n"
     ]
    }
   ],
   "source": [
    "lstm_aug = create_model(abp, len(w_i2), len(train_X2[0]), train_X2, train_a2, epoch = 2)"
   ]
  },
  {
   "cell_type": "code",
   "execution_count": 78,
   "metadata": {},
   "outputs": [
    {
     "data": {
      "image/png": "[encoded data removed]",
      "text/plain": [
       "<Figure size 720x504 with 2 Axes>"
      ]
     },
     "metadata": {
      "needs_background": "light"
     },
     "output_type": "display_data"
    },
    {
     "name": "stdout",
     "output_type": "stream",
     "text": [
      "[[ 99  30  11]\n",
      " [ 61 424  15]\n",
      " [ 22  11 367]]\n",
      "              precision    recall  f1-score   support\n",
      "\n",
      "           0       0.54      0.71      0.61       140\n",
      "           1       0.91      0.85      0.88       500\n",
      "           2       0.93      0.92      0.93       400\n",
      "\n",
      "   micro avg       0.86      0.86      0.86      1040\n",
      "   macro avg       0.80      0.82      0.81      1040\n",
      "weighted avg       0.87      0.86      0.86      1040\n",
      "\n"
     ]
    }
   ],
   "source": [
    "show_result(lstm_aug)"
   ]
  },
  {
   "cell_type": "code",
   "execution_count": 80,
   "metadata": {},
   "outputs": [],
   "source": [
    "lstm.save('final_models/lstm.h5')"
   ]
  },
  {
   "cell_type": "code",
   "execution_count": 43,
   "metadata": {},
   "outputs": [],
   "source": [
    "lstm_cw.save('final_models/lstm_class_weight.h5')"
   ]
  },
  {
   "cell_type": "code",
   "execution_count": 81,
   "metadata": {},
   "outputs": [],
   "source": [
    "lstm_aug.save('final_models/lstm_augmented.h5')"
   ]
  }
 ],
 "metadata": {
  "kernelspec": {
   "display_name": "Python 3.6",
   "language": "python",
   "name": "python3"
  },
  "language_info": {
   "codemirror_mode": {
    "name": "ipython",
    "version": 3
   },
   "file_extension": ".py",
   "mimetype": "text/x-python",
   "name": "python",
   "nbconvert_exporter": "python",
   "pygments_lexer": "ipython3",
   "version": "3.6.8"
  }
 },
 "nbformat": 4,
 "nbformat_minor": 2
}
